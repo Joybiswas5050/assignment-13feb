{
 "cells": [
  {
   "cell_type": "code",
   "execution_count": 1,
   "id": "fbc248ce-7f54-46b7-b5b3-a0e5139bdc5b",
   "metadata": {},
   "outputs": [],
   "source": [
    "###question no 1"
   ]
  },
  {
   "cell_type": "code",
   "execution_count": null,
   "id": "e416deab-34a4-4b0b-b4e8-47f2798de88b",
   "metadata": {},
   "outputs": [],
   "source": [
    "In Python, the Exception class is the base class for all built-in exceptions. When you create a custom exception, you need to subclass Exception or one of its subclasses so that your custom exception can inherit the behavior and attributes of the base class.\n",
    "\n",
    "Here are some reasons why using the Exception class as the base class for custom exceptions is a good practice:\n",
    "\n",
    "Inheriting from Exception allows your custom exception to behave like a standard exception in terms of its usage, handling, and propagation. By following the same design pattern as the built-in exceptions, your custom exception will be easier to understand and use for other developers.\n",
    "\n",
    "The Exception class provides many methods and attributes that can be useful when working with exceptions, such as __str__ for generating a string representation of the exception, args for storing any arguments passed to the exception, and with_traceback for associating a traceback with the exception.\n",
    "\n",
    "Subclassing Exception allows you to define more specific exceptions for your code, which can improve the clarity and readability of your error messages. For example, if you're creating a custom exception for a network error, you could subclass Exception as NetworkError to make it clear what kind of error has occurred.\n",
    "\n",
    "In summary, using the Exception class as the base class for custom exceptions is a good practice because it allows your custom exceptions to behave like standard exceptions, provides useful methods and attributes, and improves the clarity and readability of your error messages.\n",
    "\n",
    "\n",
    "\n"
   ]
  },
  {
   "cell_type": "code",
   "execution_count": 2,
   "id": "40c62622-f0ed-402c-9a10-af0c243a88a8",
   "metadata": {},
   "outputs": [],
   "source": [
    "###question no 2"
   ]
  },
  {
   "cell_type": "code",
   "execution_count": null,
   "id": "8ed878f2-1383-44b1-91b1-02322639e014",
   "metadata": {},
   "outputs": [],
   "source": [
    "# Python program to print Python exception hierarchy\n",
    "\n",
    "def print_exception_hierarchy(exceptions, indent=0):\n",
    "    \"\"\"\n",
    "    Recursively prints the exception hierarchy.\n",
    "    \"\"\"\n",
    "    for exception in exceptions:\n",
    "        print(' ' * indent + exception.__name__)\n",
    "        print_exception_hierarchy(exception.__subclasses__(), indent+4)\n",
    "\n",
    "if __name__ == '__main__':\n",
    "    # Get the top-level exceptions\n",
    "    top_level_exceptions = BaseException.__subclasses__()\n",
    "\n",
    "    # Print the exception hierarchy\n",
    "    print_exception_hierarchy(top_level_exceptions)\n"
   ]
  },
  {
   "cell_type": "code",
   "execution_count": 4,
   "id": "6ede9caa-2734-4216-bd51-357d8ed1e176",
   "metadata": {},
   "outputs": [],
   "source": [
    "###question no 3"
   ]
  },
  {
   "cell_type": "code",
   "execution_count": null,
   "id": "f60cdb85-6322-4b4f-b5c1-cdb7f03d118b",
   "metadata": {},
   "outputs": [],
   "source": [
    "In Python, the ArithmeticError class is a built-in exception class that serves as a base class for various arithmetic-related exceptions. Some common errors defined in the ArithmeticError class are:\n",
    "\n",
    "ZeroDivisionError: This error is raised when trying to divide a number by zero."
   ]
  },
  {
   "cell_type": "code",
   "execution_count": null,
   "id": "3bc7e4e5-75ad-4bf0-9eea-3910863dfe91",
   "metadata": {},
   "outputs": [],
   "source": [
    "a = 10\n",
    "b = 0\n",
    "c = a/b   # Raises ZeroDivisionError\n"
   ]
  },
  {
   "cell_type": "code",
   "execution_count": null,
   "id": "02910c83-4a82-482f-97ce-8b9135c1905c",
   "metadata": {},
   "outputs": [],
   "source": [
    "OverflowError: This error is raised when the result of an arithmetic operation exceeds the maximum representable value."
   ]
  },
  {
   "cell_type": "code",
   "execution_count": null,
   "id": "00f11c0c-05c9-4f99-a69f-933a85bfe923",
   "metadata": {},
   "outputs": [],
   "source": [
    "a = 1e1000\n",
    "b = 1e1000\n",
    "c = a * b  # Raises OverflowError\n"
   ]
  },
  {
   "cell_type": "code",
   "execution_count": null,
   "id": "599edc95-f00f-4c05-a476-1549ebbe4df2",
   "metadata": {},
   "outputs": [],
   "source": [
    "FloatingPointError: This error is raised when a floating-point operation fails to produce a finite result."
   ]
  },
  {
   "cell_type": "code",
   "execution_count": null,
   "id": "7d6dcea1-d9e1-42ed-abf3-7b0afa91417e",
   "metadata": {},
   "outputs": [],
   "source": [
    "import math\n",
    "\n",
    "a = math.inf\n",
    "b = math.inf\n",
    "c = a - b  # Raises FloatingPointError\n"
   ]
  },
  {
   "cell_type": "code",
   "execution_count": null,
   "id": "7c0cde8f-f1a5-45ac-813c-49be81a8574c",
   "metadata": {},
   "outputs": [],
   "source": [
    "ValueError: This error is raised when an argument passed to a function or method is not valid."
   ]
  },
  {
   "cell_type": "code",
   "execution_count": null,
   "id": "68ff927f-d366-4a68-9f4b-7bdfc1f6dad2",
   "metadata": {},
   "outputs": [],
   "source": [
    "a = int(\"abc\")  # Raises ValueError\n"
   ]
  },
  {
   "cell_type": "code",
   "execution_count": 6,
   "id": "748d1a18-ec34-4008-ab0a-337653990290",
   "metadata": {},
   "outputs": [],
   "source": [
    "###question no 4"
   ]
  },
  {
   "cell_type": "code",
   "execution_count": null,
   "id": "6b1cd89d-49b7-4350-9a81-4e77e49e031b",
   "metadata": {},
   "outputs": [],
   "source": [
    "In Python, the LookupError class is used to handle errors related to failed lookups in sequences, mappings, or other iterable objects. It is a base class for several other exception classes, including KeyError and IndexError.\n",
    "\n",
    "KeyError is raised when you try to access a dictionary key that does not exist, while IndexError is raised when you try to access an index in a sequence that is out of bounds. Here are some examples to illustrate their usage:"
   ]
  },
  {
   "cell_type": "code",
   "execution_count": null,
   "id": "4b4fb461-e0ed-4459-b522-dd4cdcc46e10",
   "metadata": {},
   "outputs": [],
   "source": [
    "my_list = [1, 2, 3]\n",
    "try:\n",
    "    print(my_list[3])\n",
    "except LookupError as e:\n",
    "    print(f\"Caught a lookup error: {e}\")\n"
   ]
  },
  {
   "cell_type": "code",
   "execution_count": 1,
   "id": "cbf35ccc-d931-46e3-9ded-61390cd1b208",
   "metadata": {},
   "outputs": [],
   "source": [
    "###question no 5"
   ]
  },
  {
   "cell_type": "code",
   "execution_count": null,
   "id": "83575866-ae1a-4842-8819-4d807d250c05",
   "metadata": {},
   "outputs": [],
   "source": [
    "In Python, an \"import error\" occurs when you try to import a module that cannot be found or accessed by the Python interpreter. This can happen for a few reasons:\n",
    "\n",
    "The module is not installed: If the module you're trying to import is not installed on your computer, Python won't be able to find it. You can usually install the module using a package manager like pip, or by downloading the module's source code and running its setup script.\n",
    "\n",
    "The module is not in the correct location: Python looks for modules in specific locations on your computer, including the current working directory and the directories specified in the PYTHONPATH environment variable. If the module is not in one of these locations, Python won't be able to find it.\n",
    "\n",
    "The module has a different name: Sometimes modules have different names than what you might expect. For example, the module numpy is typically imported using the name import numpy, even though its package name is actually numpy.\n",
    "\n",
    "A \"module not found\" error is a specific type of import error that occurs when Python cannot find the specified module. This can happen for the same reasons listed above. When you see a \"module not found\" error, it means that Python was not able to locate the module you tried to import.\n",
    "\n",
    "To fix an import error or module not found error, you can try the following:\n",
    "\n",
    "Make sure the module is installed: Use a package manager like pip to install the module if it's not already installed.\n",
    "\n",
    "Check the module name: Double-check that you're using the correct module name in your import statement.\n",
    "\n",
    "Check the module location: If the module is not in a standard location, make sure that the directory containing the module is in your PYTHONPATH environment variable.\n",
    "\n",
    "Check the spelling: Make sure that you've spelled the module name correctly in your import statement.\n",
    "\n",
    "Check file/folder permissions: Ensure that the module you are trying to import is not in a restricted directory or has the required permissions.\n",
    "\n",
    "\n",
    "\n"
   ]
  },
  {
   "cell_type": "code",
   "execution_count": 2,
   "id": "6d6bbfad-00a5-4f8f-9f89-8b7db24e578c",
   "metadata": {},
   "outputs": [],
   "source": [
    "###question no 6"
   ]
  },
  {
   "cell_type": "code",
   "execution_count": null,
   "id": "218615fa-e3fd-422e-a14b-6b80a0e6d306",
   "metadata": {},
   "outputs": [],
   "source": []
  }
 ],
 "metadata": {
  "kernelspec": {
   "display_name": "Python 3 (ipykernel)",
   "language": "python",
   "name": "python3"
  },
  "language_info": {
   "codemirror_mode": {
    "name": "ipython",
    "version": 3
   },
   "file_extension": ".py",
   "mimetype": "text/x-python",
   "name": "python",
   "nbconvert_exporter": "python",
   "pygments_lexer": "ipython3",
   "version": "3.10.8"
  }
 },
 "nbformat": 4,
 "nbformat_minor": 5
}
